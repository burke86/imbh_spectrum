{
 "cells": [
  {
   "cell_type": "code",
   "execution_count": 1,
   "id": "systematic-perception",
   "metadata": {},
   "outputs": [],
   "source": [
    "%matplotlib inline\n",
    "import sys, os, glob\n",
    "\n",
    "from astropy.io import fits, ascii\n",
    "\n",
    "import numpy as np\n",
    "import matplotlib.pyplot as plt\n",
    "from astropy import units as u\n",
    "import astropy.constants as const\n",
    "from astropy.coordinates import SkyCoord, concatenate\n",
    "from astropy import table"
   ]
  },
  {
   "cell_type": "code",
   "execution_count": 2,
   "id": "magnetic-dividend",
   "metadata": {},
   "outputs": [],
   "source": [
    "import scienceplots\n",
    "\n",
    "plt.style.use(['bright', 'science', 'no-latex', 'notebook'])"
   ]
  },
  {
   "cell_type": "code",
   "execution_count": 354,
   "id": "female-advocate",
   "metadata": {},
   "outputs": [],
   "source": [
    "hdul = fits.open('/data3/dr16q_prop_Oct20_2022.fits')\n",
    "hdul[1].header\n",
    "data_sdss = hdul[1].data\n",
    "data_sdss = data_sdss[(data_sdss['SN_MEDIAN_ALL'] > 2) & (data_sdss['LOGMBH'] > 0) & (data_sdss['LOGMBH'] < 11)]\n",
    "\n",
    "# From Qiaya: Now I am pretty confidence that you can remove all MBH>1e11 objs. After visually inspection, \n",
    "# I found that most of them are not quasar, a few have incorrect redshift, one or two underestimated the continuum."
   ]
  },
  {
   "cell_type": "code",
   "execution_count": 356,
   "id": "reliable-basin",
   "metadata": {},
   "outputs": [
    {
     "data": {
      "text/html": [
       "<div><i>Table length=673</i>\n",
       "<table id=\"table139736739878928\" class=\"table-striped table-bordered table-condensed\">\n",
       "<thead><tr><th>catalog</th><th>oridx</th><th>ra</th><th>dec</th><th>mass</th><th>mass_err</th><th>z</th><th>tau</th><th>dlogtau</th><th>sigma_lb</th><th>sigma_drw</th><th>SNR</th><th>baseline</th><th>cadence</th><th>var_snr</th><th>sigDerr</th></tr></thead>\n",
       "<thead><tr><th>str15</th><th>str3</th><th>float64</th><th>float64</th><th>float64</th><th>float64</th><th>float64</th><th>float64</th><th>float64</th><th>float64</th><th>float64</th><th>float64</th><th>float64</th><th>float64</th><th>float64</th><th>float64</th></tr></thead>\n",
       "<tr><td>Liu+18</td><td>1</td><td>85.70309</td><td>0.67201</td><td>6.24</td><td>0.3</td><td>0.0518</td><td>0.14240709976619897</td><td>0.5169777262521235</td><td>1.5093311498018744</td><td>0.08307797342263538</td><td>1.5839104438784881</td><td>912.7270022999946</td><td>7.301816018399957</td><td>12.468215485198831</td><td>0.4363731783744645</td></tr>\n",
       "<tr><td>Liu+18</td><td>2</td><td>115.93947</td><td>48.13709</td><td>5.48</td><td>0.3</td><td>0.0181</td><td>3.5878390845449055</td><td>0.26993343086010085</td><td>6.017565927827219</td><td>0.027355953046976043</td><td>1.391608374228139</td><td>1133.9705324000024</td><td>3.634520937179495</td><td>7.996265551898939</td><td>0.4349445786815317</td></tr>\n",
       "<tr><td>Liu+18</td><td>3</td><td>122.02972</td><td>56.64234</td><td>6.14</td><td>0.3</td><td>0.099</td><td>43.44914069772265</td><td>0.3461289501776465</td><td>11.560467395720812</td><td>0.03151332477727061</td><td>0.6132240620032701</td><td>1141.0341203999997</td><td>3.9896297916083903</td><td>5.631226588082947</td><td>0.45585070674711053</td></tr>\n",
       "<tr><td>Liu+18</td><td>4</td><td>122.13909</td><td>54.08923</td><td>6.05</td><td>0.3</td><td>0.2848</td><td>443.9081184957424</td><td>1.0365799577900296</td><td>15.33643605086827</td><td>0.14072475018008987</td><td>1.104935417678022</td><td>1114.9764004000026</td><td>6.026899461621635</td><td>5.828529841125325</td><td>0.5772336503415377</td></tr>\n",
       "<tr><td>Liu+18</td><td>5</td><td>122.29468</td><td>11.10531</td><td>5.95</td><td>0.3</td><td>0.0526</td><td>8.116405473843702</td><td>0.17975196533330573</td><td>11.066820919666513</td><td>0.06746206808509234</td><td>1.801262169169648</td><td>1117.0140393999973</td><td>6.494267670930217</td><td>13.260570073022157</td><td>0.4388581948277674</td></tr>\n",
       "<tr><td>Liu+18</td><td>6</td><td>124.32739</td><td>52.02992</td><td>6.3</td><td>0.3</td><td>0.0386</td><td>4.262139539706264</td><td>0.6434619089767143</td><td>3.4077997056949707</td><td>0.05996827090326308</td><td>1.5040957852926755</td><td>532.7776157000044</td><td>15.66992987352954</td><td>5.1687552458805985</td><td>0.44635237520774196</td></tr>\n",
       "<tr><td>Liu+18</td><td>7</td><td>124.88909</td><td>23.28465</td><td>6.24</td><td>0.3</td><td>0.094</td><td>0.14531606641782735</td><td>0.5662064453909755</td><td>5.662611319630529</td><td>0.08064650181290611</td><td>1.1108735170452906</td><td>1141.9829976000037</td><td>3.5798840050156855</td><td>17.746546413199468</td><td>0.435209954614799</td></tr>\n",
       "<tr><td>Liu+18</td><td>8</td><td>126.26247</td><td>11.17262</td><td>6.24</td><td>0.3</td><td>0.1077</td><td>0.3776244418006328</td><td>0.9571591313994567</td><td>0.14277878012864556</td><td>0.06902012447848256</td><td>1.202653308701907</td><td>1142.0284837999934</td><td>8.04245411126756</td><td>11.983048466093877</td><td>0.4326087729974886</td></tr>\n",
       "<tr><td>Liu+18</td><td>9</td><td>126.72634</td><td>23.59384</td><td>6.2</td><td>0.3</td><td>0.1369</td><td>0.4889922362837645</td><td>1.7586602167076766</td><td>1.1621312274148758</td><td>0.03732545399644426</td><td>0.5714155471936075</td><td>1142.021157400006</td><td>13.12667997011501</td><td>5.16607119936804</td><td>0.4285672807030889</td></tr>\n",
       "<tr><td>Liu+18</td><td>10</td><td>126.9223</td><td>17.96417</td><td>6.19</td><td>0.3</td><td>0.1072</td><td>44.80416915857725</td><td>0.956429757526876</td><td>0.8646887097983408</td><td>0.03915688843940725</td><td>0.7049405117215369</td><td>1117.0126157999985</td><td>8.659012525581383</td><td>7.128391414605849</td><td>0.44632855187608156</td></tr>\n",
       "<tr><td>...</td><td>...</td><td>...</td><td>...</td><td>...</td><td>...</td><td>...</td><td>...</td><td>...</td><td>...</td><td>...</td><td>...</td><td>...</td><td>...</td><td>...</td><td>...</td></tr>\n",
       "<tr><td>Chilingarian+18</td><td>293</td><td>228.33398</td><td>19.766236</td><td>5.066464068975378</td><td>0.3</td><td>0.040854599326848984</td><td>24.629766262009166</td><td>0.9641719001709778</td><td>1.6436551693838752</td><td>0.014224686489460358</td><td>0.35729513830366344</td><td>1250.7739468</td><td>5.956066413333334</td><td>3.0199576705646107</td><td>0.44366403195618265</td></tr>\n",
       "<tr><td>Chilingarian+18</td><td>295</td><td>212.98201</td><td>20.173613</td><td>5.304804758107573</td><td>0.3</td><td>0.08532869815826416</td><td>42.96611436706936</td><td>0.42767276585245534</td><td>2.330581022749411</td><td>0.0507606448129173</td><td>0.6336499806455349</td><td>1224.889953699996</td><td>7.08028874971096</td><td>9.719487226896542</td><td>0.44239325144413816</td></tr>\n",
       "<tr><td>Chilingarian+18</td><td>296</td><td>209.4613</td><td>22.516899</td><td>5.007698848688753</td><td>0.3</td><td>0.062235500663518906</td><td>5.783089240916656</td><td>0.14580478832938987</td><td>6.1736314984951735</td><td>0.053936180965454314</td><td>0.8410027699509404</td><td>1220.8418519000043</td><td>3.7914343226708205</td><td>13.737219814996653</td><td>0.435783474037824</td></tr>\n",
       "<tr><td>Chilingarian+18</td><td>297</td><td>215.74053</td><td>22.911507</td><td>4.68054967181076</td><td>0.3</td><td>0.03254549950361252</td><td>63.82542537614534</td><td>0.6134209638129946</td><td>1.9791797577769799</td><td>0.01462544766968823</td><td>0.769111094484613</td><td>1252.816354100003</td><td>5.543435195132757</td><td>1.4560572349507135</td><td>0.4602302208101372</td></tr>\n",
       "<tr><td>Chilingarian+18</td><td>298</td><td>222.18553</td><td>19.228883</td><td>5.2638943082619365</td><td>0.3</td><td>0.06889239698648453</td><td>0.17010143206196365</td><td>82.22792070231966</td><td>0.09013391902016091</td><td>0.02884930669101283</td><td>0.9283914436616163</td><td>1251.795914299997</td><td>6.047323257487909</td><td>8.169819424254683</td><td>0.3851407159919731</td></tr>\n",
       "<tr><td>Chilingarian+18</td><td>300</td><td>225.70171</td><td>19.216257</td><td>4.998257712783538</td><td>0.3</td><td>0.11749699711799622</td><td>0.05021306087570886</td><td>5.2799567432636545</td><td>0.8521500534257417</td><td>0.05380964808706491</td><td>0.489322871219477</td><td>1222.8311689999973</td><td>13.291643141304318</td><td>5.07223491318793</td><td>0.352154135423348</td></tr>\n",
       "<tr><td>Chilingarian+18</td><td>301</td><td>228.19545</td><td>17.808945</td><td>5.184878111987095</td><td>0.3</td><td>0.0648752972483635</td><td>12.696671713202557</td><td>2.9400630027488543</td><td>1.5960594288374221</td><td>0.046681514110485746</td><td>0.4830801931071815</td><td>1239.7859259999968</td><td>8.855613757142834</td><td>10.274811797848049</td><td>0.39969178733751964</td></tr>\n",
       "<tr><td>Chilingarian+18</td><td>302</td><td>250.76721</td><td>26.78628</td><td>5.198663336609378</td><td>0.3</td><td>0.08681409806013107</td><td>3.275358825908703</td><td>0.20745572676387855</td><td>14.841277595552015</td><td>0.066052441910849</td><td>0.791944348709379</td><td>1250.7764815000046</td><td>3.3804769770270395</td><td>15.279525439394796</td><td>0.4361498654956414</td></tr>\n",
       "<tr><td>Chilingarian+18</td><td>303</td><td>236.16783</td><td>4.9758743</td><td>5.267845293258822</td><td>0.3</td><td>0.03966309875249863</td><td>0.46358604567809797</td><td>0.692559421920318</td><td>0.8477132586739182</td><td>0.06381290255382593</td><td>1.1377455384711068</td><td>1250.794004700001</td><td>10.51087398907564</td><td>10.190403285277291</td><td>0.43048860101305214</td></tr>\n",
       "<tr><td>Chilingarian+18</td><td>304</td><td>232.75098</td><td>4.2807308</td><td>5.0185921861027</td><td>0.3</td><td>0.03888839855790138</td><td>7.859650975994215</td><td>30.778873833647918</td><td>0.8664718198579283</td><td>0.008017281844288966</td><td>0.2875507036581032</td><td>1250.794004700001</td><td>7.188471291379317</td><td>0.00010173549675425107</td><td>0.494922457058137</td></tr>\n",
       "</table></div>"
      ],
      "text/plain": [
       "<Table length=673>\n",
       "    catalog     oridx     ra    ...        var_snr               sigDerr      \n",
       "     str15       str3  float64  ...        float64               float64      \n",
       "--------------- ----- --------- ... ---------------------- -------------------\n",
       "         Liu+18     1  85.70309 ...     12.468215485198831  0.4363731783744645\n",
       "         Liu+18     2 115.93947 ...      7.996265551898939  0.4349445786815317\n",
       "         Liu+18     3 122.02972 ...      5.631226588082947 0.45585070674711053\n",
       "         Liu+18     4 122.13909 ...      5.828529841125325  0.5772336503415377\n",
       "         Liu+18     5 122.29468 ...     13.260570073022157  0.4388581948277674\n",
       "         Liu+18     6 124.32739 ...     5.1687552458805985 0.44635237520774196\n",
       "         Liu+18     7 124.88909 ...     17.746546413199468   0.435209954614799\n",
       "         Liu+18     8 126.26247 ...     11.983048466093877  0.4326087729974886\n",
       "         Liu+18     9 126.72634 ...       5.16607119936804  0.4285672807030889\n",
       "         Liu+18    10  126.9223 ...      7.128391414605849 0.44632855187608156\n",
       "            ...   ...       ... ...                    ...                 ...\n",
       "Chilingarian+18   293 228.33398 ...     3.0199576705646107 0.44366403195618265\n",
       "Chilingarian+18   295 212.98201 ...      9.719487226896542 0.44239325144413816\n",
       "Chilingarian+18   296  209.4613 ...     13.737219814996653   0.435783474037824\n",
       "Chilingarian+18   297 215.74053 ...     1.4560572349507135  0.4602302208101372\n",
       "Chilingarian+18   298 222.18553 ...      8.169819424254683  0.3851407159919731\n",
       "Chilingarian+18   300 225.70171 ...       5.07223491318793   0.352154135423348\n",
       "Chilingarian+18   301 228.19545 ...     10.274811797848049 0.39969178733751964\n",
       "Chilingarian+18   302 250.76721 ...     15.279525439394796  0.4361498654956414\n",
       "Chilingarian+18   303 236.16783 ...     10.190403285277291 0.43048860101305214\n",
       "Chilingarian+18   304 232.75098 ... 0.00010173549675425107   0.494922457058137"
      ]
     },
     "execution_count": 356,
     "metadata": {},
     "output_type": "execute_result"
    }
   ],
   "source": [
    "data_dwarf_AGN"
   ]
  },
  {
   "cell_type": "code",
   "execution_count": 366,
   "id": "linear-minnesota",
   "metadata": {},
   "outputs": [
    {
     "name": "stdout",
     "output_type": "stream",
     "text": [
      "    catalog    \n",
      "---------------\n",
      "Chilingarian+18\n",
      "           GH07\n",
      "         Liu+18\n",
      "           RV15\n"
     ]
    }
   ],
   "source": [
    "data_dwarf_AGN = ascii.read('franklin_broad_line_dwarf_agn.txt')\n",
    "print(np.unique(data_dwarf_AGN['catalog']))\n",
    "\n",
    "# I think Chilingarian should include the RGG sources\n",
    "data_dwarf_AGN = data_dwarf_AGN[data_dwarf_AGN['catalog']!='RV15']\n",
    "\n",
    "# Remove duplicates\n",
    "cat_dwarf_AGN = SkyCoord(data_dwarf_AGN['ra'], data_dwarf_AGN['dec'], unit='deg')\n",
    "idx,idx,d2d,d3d = cat_dwarf_AGN.search_around_sky(cat_dwarf_AGN, 1*u.arcsec)\n",
    "#idx = np.unique(idx)\n",
    "data_dwarf_AGN = data_dwarf_AGN[idx]"
   ]
  },
  {
   "cell_type": "code",
   "execution_count": 363,
   "id": "incredible-hamburg",
   "metadata": {},
   "outputs": [
    {
     "data": {
      "text/plain": [
       "673"
      ]
     },
     "execution_count": 363,
     "metadata": {},
     "output_type": "execute_result"
    }
   ],
   "source": [
    "len(cat_dwarf_AGN)"
   ]
  },
  {
   "cell_type": "code",
   "execution_count": 364,
   "id": "radical-plastic",
   "metadata": {},
   "outputs": [
    {
     "data": {
      "text/plain": [
       "673"
      ]
     },
     "execution_count": 364,
     "metadata": {},
     "output_type": "execute_result"
    }
   ],
   "source": [
    "len(np.unique(idx))"
   ]
  },
  {
   "cell_type": "code",
   "execution_count": 271,
   "id": "least-acrylic",
   "metadata": {},
   "outputs": [
    {
     "data": {
      "text/html": [
       "<div><i>Table length=18</i>\n",
       "<table id=\"table139736569860560\" class=\"table-striped table-bordered table-condensed\">\n",
       "<thead><tr><th>Name</th><th>e</th><th>Ctp</th><th>SpType</th><th>Porb</th><th>e_Porb</th><th>2</th><th>K2</th><th>e_K2</th><th>f(M1)</th><th>(M1)</th><th>M1</th><th>M1_1</th><th>_M1</th><th>e_  M1u</th><th>_q</th><th>q</th><th>E_q</th><th>e_    qu</th><th>_i</th><th>i</th><th>e_ iu</th><th>ni</th><th>tsini</th><th>sini</th><th>sini_1</th><th>Ref</th></tr></thead>\n",
       "<thead><tr><th>str18</th><th>str1</th><th>str10</th><th>str7</th><th>float64</th><th>float64</th><th>str1</th><th>float64</th><th>float64</th><th>float64</th><th>float64</th><th>str2</th><th>float64</th><th>float64</th><th>str5</th><th>str2</th><th>str5</th><th>float64</th><th>float64</th><th>str2</th><th>float64</th><th>float64</th><th>str2</th><th>str5</th><th>float64</th><th>float64</th><th>str81</th></tr></thead>\n",
       "<tr><td>SWIFT J1357.2-0933</td><td>+</td><td>--</td><td>M2-4V</td><td>2.8</td><td>0.3</td><td>--</td><td>967.0</td><td>49.0</td><td>11.0</td><td>2.1</td><td>&gt;</td><td>8.9</td><td>--</td><td>--</td><td>~</td><td>0.04</td><td>--</td><td>--</td><td>~</td><td>90.0</td><td>--</td><td>--</td><td>--</td><td>--</td><td>--</td><td>Corral-Santana2013;MataSanchez2015</td></tr>\n",
       "<tr><td>XTE J1650-500</td><td>--</td><td>--</td><td>~K4V</td><td>7.69</td><td>0.02</td><td>--</td><td>435.0</td><td>30.0</td><td>2.7</td><td>0.6</td><td>&lt;=</td><td>7.3</td><td>--</td><td>--</td><td>--</td><td>---</td><td>--</td><td>--</td><td>&gt;</td><td>47.0</td><td>--</td><td>--</td><td>--</td><td>--</td><td>--</td><td>Orosz2004</td></tr>\n",
       "<tr><td>XTE J1118+480</td><td>--</td><td>--</td><td>K7-M1V</td><td>4.078414</td><td>5e-06</td><td>--</td><td>709.0</td><td>1.0</td><td>6.27</td><td>0.04</td><td>--</td><td>6.9</td><td>--</td><td>- 8.2</td><td>--</td><td>0.024</td><td>0.009</td><td>0.009</td><td>--</td><td>68.0</td><td>-79.0</td><td>--</td><td>96.</td><td>3.0</td><td>11.0</td><td>Khargharia2013;Torres2004;GonzalezHernandez2008;Calvelo2009</td></tr>\n",
       "<tr><td>XTE J1859+226</td><td>--</td><td>V406 Vul</td><td>~K5V</td><td>6.58</td><td>0.05</td><td>--</td><td>541.0</td><td>70.0</td><td>4.5</td><td>0.6</td><td>&gt;</td><td>5.42</td><td>--</td><td>--</td><td>--</td><td>---</td><td>--</td><td>--</td><td>&lt;</td><td>70.0</td><td>--</td><td>--</td><td>--</td><td>--</td><td>--</td><td>Corral-Santana2011</td></tr>\n",
       "<tr><td>SAX J1819.3-2525</td><td>--</td><td>V4641 Sgr</td><td>B9III</td><td>67.6152</td><td>0.0002</td><td>--</td><td>211.0</td><td>3.0</td><td>2.7</td><td>0.1</td><td>--</td><td>6.4</td><td>0.6</td><td>0.6</td><td>--</td><td>0.63</td><td>--</td><td>-0.7</td><td>--</td><td>72.0</td><td>4.0</td><td>--</td><td>100.9</td><td>0.8</td><td>0.8</td><td>Orosz2001;MacDonald2014</td></tr>\n",
       "<tr><td>XTE J1550-564</td><td>--</td><td>--</td><td>K2-K4IV</td><td>37.0088</td><td>0.0001</td><td>--</td><td>363.0</td><td>6.0</td><td>7.65</td><td>0.38</td><td>--</td><td>7.81</td><td>--</td><td>-15.6</td><td>~~</td><td>0.03</td><td>--</td><td>--</td><td>--</td><td>75.0</td><td>4.0</td><td>--</td><td>55.</td><td>5.0</td><td>5.0</td><td>Orosz2002;Orosz2011b</td></tr>\n",
       "<tr><td>GRO J1655-40</td><td>--</td><td>N.  Sco 94</td><td>F6IV</td><td>62.92</td><td>0.003</td><td>--</td><td>226.1</td><td>0.8</td><td>2.73</td><td>0.09</td><td>--</td><td>6.0</td><td>0.4</td><td>0.4</td><td>--</td><td>0.42</td><td>0.03</td><td>0.03</td><td>--</td><td>69.0</td><td>2.0</td><td>--</td><td>86.</td><td>3.3</td><td>3.6</td><td>Orosz1997;VanDerHooft1998;Shahbaz1999;Shahbaz2003;Beer2002;GonzalezHernandez2008a</td></tr>\n",
       "<tr><td>GRS 1009-45</td><td>--</td><td>N.  Vel 93</td><td>K7-M0V</td><td>6.8449</td><td>0.0003</td><td>--</td><td>475.0</td><td>6.0</td><td>3.2</td><td>0.1</td><td>&gt;~</td><td>4.4</td><td>--</td><td>--</td><td>--</td><td>0.14</td><td>0.02</td><td>0.02</td><td>--</td><td>37.0</td><td>-80.0</td><td>--</td><td>---</td><td>--</td><td>--</td><td>Filippenko1999;Shahbaz1996</td></tr>\n",
       "<tr><td>GRS 1915+105</td><td>--</td><td>V1487 Aql</td><td>K1-5III</td><td>812.0</td><td>4.0</td><td>--</td><td>126.0</td><td>1.0</td><td>7.0</td><td>0.2</td><td>--</td><td>10.1</td><td>0.6</td><td>0.6</td><td>--</td><td>0.042</td><td>0.024</td><td>0.024</td><td>--</td><td>66.0</td><td>2.0</td><td>--</td><td>21.</td><td>4.0</td><td>4.0</td><td>Harlaftis2004;Steeghs2013;Fender1999</td></tr>\n",
       "<tr><td>GRO J0422+32</td><td>--</td><td>--</td><td>M4-5V</td><td>5.094185</td><td>5e-06</td><td>--</td><td>378.0</td><td>16.0</td><td>1.19</td><td>0.02</td><td>--</td><td>2.0</td><td>--</td><td>-15.</td><td>--</td><td>0.11</td><td>0.05</td><td>0.02</td><td>--</td><td>10.0</td><td>-50.0</td><td>--</td><td>90.</td><td>22.0</td><td>27.0</td><td>Webb2000;Casares1995c;Beekman1997;Harlaftis1999</td></tr>\n",
       "<tr><td>GRS 1124-684</td><td>--</td><td>N.  Mus 91</td><td>K3-5V</td><td>10.38254</td><td>7e-05</td><td>--</td><td>406.0</td><td>7.0</td><td>3.0</td><td>0.2</td><td>--</td><td>3.8</td><td>--</td><td>- 7.5</td><td>--</td><td>0.09</td><td>--</td><td>-0.17</td><td>--</td><td>39.0</td><td>-65.0</td><td>--</td><td>106.</td><td>13.0</td><td>13.0</td><td>Orosz1996;Shahbaz1997;Gelino2001a;Gelino2001;Casares1997</td></tr>\n",
       "<tr><td>GS 2023+338</td><td>--</td><td>V404 Cyg</td><td>K3III</td><td>155.311</td><td>0.002</td><td>--</td><td>208.5</td><td>0.7</td><td>6.08</td><td>0.06</td><td>--</td><td>9.0</td><td>0.2</td><td>0.6</td><td>--</td><td>0.055</td><td>--</td><td>-0.064</td><td>--</td><td>52.0</td><td>-80.0</td><td>--</td><td>39.</td><td>1.0</td><td>1.0</td><td>Wagner1992;Casares1992;Casares1993;Casares1994;Shahbaz1994b;Khargharia2010</td></tr>\n",
       "<tr><td>GS 2000+251</td><td>--</td><td>QZ Vul</td><td>K3-7V</td><td>8.258095</td><td>5e-06</td><td>--</td><td>520.0</td><td>5.0</td><td>5.0</td><td>0.1</td><td>--</td><td>5.5</td><td>--</td><td>- 8.8</td><td>--</td><td>0.04</td><td>0.01</td><td>0.01</td><td>--</td><td>54.0</td><td>-60.0</td><td>--</td><td>86.</td><td>8.0</td><td>8.0</td><td>Charles1991;Casares1995a;Harlaftis1996;Ioannou2004</td></tr>\n",
       "<tr><td>GS 1354-64</td><td>--</td><td>BW Cir</td><td>G5III</td><td>61.068</td><td>0.002</td><td>--</td><td>279.0</td><td>5.0</td><td>5.7</td><td>0.3</td><td>&gt;=</td><td>7.6</td><td>0.7</td><td>0.7</td><td>--</td><td>0.12</td><td>0.03</td><td>0.04</td><td>&lt;=</td><td>79.0</td><td>--</td><td>--</td><td>69.</td><td>8.0</td><td>8.0</td><td>Casares2004;Casares2009</td></tr>\n",
       "<tr><td>H 1705-250</td><td>--</td><td>N.  Oph 77</td><td>K3-M0V</td><td>12.51</td><td>0.03</td><td>--</td><td>448.0</td><td>4.0</td><td>4.9</td><td>0.1</td><td>--</td><td>4.9</td><td>--</td><td>- 7.9</td><td>&lt;=</td><td>0.053</td><td>--</td><td>--</td><td>--</td><td>48.0</td><td>-80.0</td><td>&lt;=</td><td>79.</td><td>--</td><td>--</td><td>Remillard1996;Filippenko1997;Harlaftis1997;Martin1995</td></tr>\n",
       "<tr><td>3A 0620-003</td><td>--</td><td>--</td><td>K2-7V</td><td>7.7523372</td><td>2e-07</td><td>--</td><td>437.0</td><td>2.0</td><td>2.79</td><td>0.04</td><td>--</td><td>6.6</td><td>0.3</td><td>0.3</td><td>--</td><td>0.074</td><td>0.006</td><td>0.006</td><td>--</td><td>51.0</td><td>0.9</td><td>--</td><td>---</td><td>--</td><td>--</td><td>Cantrell2010;Orosz1994;GonzalezHernandez2010</td></tr>\n",
       "<tr><td>1H 1659-487</td><td>--</td><td>GX 339-4</td><td>&gt;GIV</td><td>42.14</td><td>0.01</td><td>&gt;</td><td>317.0</td><td>10.0</td><td>5.8</td><td>0.5</td><td>&gt;</td><td>6.0</td><td>--</td><td>--</td><td>&lt;=</td><td>0.125</td><td>--</td><td>--</td><td>--</td><td>--</td><td>--</td><td>--</td><td>--</td><td>--</td><td>--</td><td>Hynes2003;Hynes2004; Munoz-Darias2008</td></tr>\n",
       "<tr><td>4U 1543-475</td><td>--</td><td>IL Lup</td><td>A2V</td><td>26.79377</td><td>7e-05</td><td>--</td><td>124.0</td><td>4.0</td><td>0.25</td><td>0.01</td><td>--</td><td>8.4</td><td>--</td><td>-10.4</td><td>--</td><td>3.2</td><td>--</td><td>-4.0</td><td>--</td><td>20.7</td><td>1.5</td><td>--</td><td>46.</td><td>2.0</td><td>2.0</td><td>Orosz1998;Orosz2003</td></tr>\n",
       "</table></div>"
      ],
      "text/plain": [
       "<Table length=18>\n",
       "       Name        ...\n",
       "      str18        ...\n",
       "------------------ ...\n",
       "SWIFT J1357.2-0933 ...\n",
       "     XTE J1650-500 ...\n",
       "     XTE J1118+480 ...\n",
       "     XTE J1859+226 ...\n",
       "  SAX J1819.3-2525 ...\n",
       "     XTE J1550-564 ...\n",
       "      GRO J1655-40 ...\n",
       "       GRS 1009-45 ...\n",
       "      GRS 1915+105 ...\n",
       "      GRO J0422+32 ...\n",
       "      GRS 1124-684 ...\n",
       "       GS 2023+338 ...\n",
       "       GS 2000+251 ...\n",
       "        GS 1354-64 ...\n",
       "        H 1705-250 ...\n",
       "       3A 0620-003 ...\n",
       "       1H 1659-487 ...\n",
       "       4U 1543-475 ..."
      ]
     },
     "execution_count": 271,
     "metadata": {},
     "output_type": "execute_result"
    }
   ],
   "source": [
    "# Read BlackCAT (dynamical BH mass catalog)\n",
    "# https://cdsarc.cds.unistra.fr/viz-bin/cat/J/A+A/587/A61#/browse\n",
    "data_XRB = ascii.read('blackcat_4.txt', header_start=0, delimiter='|')\n",
    "data_XRB"
   ]
  },
  {
   "cell_type": "code",
   "execution_count": 5,
   "id": "flying-sugar",
   "metadata": {},
   "outputs": [
    {
     "data": {
      "text/html": [
       "<div><i>Table length=35</i>\n",
       "<table id=\"table139743145336144\" class=\"table-striped table-bordered table-condensed\">\n",
       "<thead><tr><th>id</th><th>commonName</th><th>version</th><th>catalog.shortName</th><th>GPS</th><th>reference</th><th>jsonurl</th><th>mass_1_source</th><th>mass_1_source_lower</th><th>mass_1_source_upper</th><th>mass_2_source</th><th>mass_2_source_lower</th><th>mass_2_source_upper</th><th>network_matched_filter_snr</th><th>network_matched_filter_snr_lower</th><th>network_matched_filter_snr_upper</th><th>luminosity_distance</th><th>luminosity_distance_lower</th><th>luminosity_distance_upper</th><th>chi_eff</th><th>chi_eff_lower</th><th>chi_eff_upper</th><th>total_mass_source</th><th>total_mass_source_lower</th><th>total_mass_source_upper</th><th>chirp_mass_source</th><th>chirp_mass_source_lower</th><th>chirp_mass_source_upper</th><th>chirp_mass</th><th>chirp_mass_lower</th><th>chirp_mass_upper</th><th>redshift</th><th>redshift_lower</th><th>redshift_upper</th><th>far</th><th>far_lower</th><th>far_upper</th><th>p_astro</th><th>p_astro_lower</th><th>p_astro_upper</th><th>final_mass_source</th><th>final_mass_source_lower</th><th>final_mass_source_upper</th></tr></thead>\n",
       "<thead><tr><th>str18</th><th>str15</th><th>int64</th><th>str16</th><th>float64</th><th>str8</th><th>str67</th><th>float64</th><th>float64</th><th>float64</th><th>float64</th><th>float64</th><th>float64</th><th>float64</th><th>float64</th><th>float64</th><th>float64</th><th>float64</th><th>float64</th><th>float64</th><th>float64</th><th>float64</th><th>float64</th><th>float64</th><th>float64</th><th>float64</th><th>float64</th><th>float64</th><th>str4</th><th>str4</th><th>str4</th><th>float64</th><th>float64</th><th>float64</th><th>float64</th><th>str4</th><th>str4</th><th>float64</th><th>str4</th><th>str4</th><th>float64</th><th>float64</th><th>float64</th></tr></thead>\n",
       "<tr><td>GW191103_012549-v1</td><td>GW191103_012549</td><td>1</td><td>GWTC-3-confident</td><td>1256779567.5</td><td>/GWTC-3/</td><td>https://gwosc.org/eventapi/json/GWTC-3-confident/GW191103_012549/v1</td><td>11.8</td><td>-2.2</td><td>6.2</td><td>7.9</td><td>-2.4</td><td>1.7</td><td>8.9</td><td>-0.5</td><td>0.3</td><td>990.0</td><td>-470.0</td><td>500.0</td><td>0.21</td><td>-0.1</td><td>0.16</td><td>20.0</td><td>-1.8</td><td>3.7</td><td>8.34</td><td>-0.57</td><td>0.66</td><td>None</td><td>None</td><td>None</td><td>0.2</td><td>-0.09</td><td>0.09</td><td>0.46</td><td>None</td><td>None</td><td>0.94318</td><td>None</td><td>None</td><td>19.0</td><td>-1.7</td><td>3.8</td></tr>\n",
       "<tr><td>GW191105_143521-v1</td><td>GW191105_143521</td><td>1</td><td>GWTC-3-confident</td><td>1256999739.9</td><td>/GWTC-3/</td><td>https://gwosc.org/eventapi/json/GWTC-3-confident/GW191105_143521/v1</td><td>10.7</td><td>-1.6</td><td>3.7</td><td>7.7</td><td>-1.9</td><td>1.4</td><td>9.7</td><td>-0.5</td><td>0.3</td><td>1150.0</td><td>-480.0</td><td>430.0</td><td>-0.02</td><td>-0.09</td><td>0.13</td><td>18.5</td><td>-1.3</td><td>2.1</td><td>7.82</td><td>-0.45</td><td>0.61</td><td>None</td><td>None</td><td>None</td><td>0.23</td><td>-0.09</td><td>0.07</td><td>0.012</td><td>None</td><td>None</td><td>0.99</td><td>None</td><td>None</td><td>17.6</td><td>-1.2</td><td>2.1</td></tr>\n",
       "<tr><td>GW191109_010717-v1</td><td>GW191109_010717</td><td>1</td><td>GWTC-3-confident</td><td>1257296855.2</td><td>/GWTC-3/</td><td>https://gwosc.org/eventapi/json/GWTC-3-confident/GW191109_010717/v1</td><td>65.0</td><td>-11.0</td><td>11.0</td><td>47.0</td><td>-13.0</td><td>15.0</td><td>17.3</td><td>-0.5</td><td>0.5</td><td>1290.0</td><td>-650.0</td><td>1130.0</td><td>-0.29</td><td>-0.31</td><td>0.42</td><td>112.0</td><td>-16.0</td><td>20.0</td><td>47.5</td><td>-7.5</td><td>9.6</td><td>None</td><td>None</td><td>None</td><td>0.25</td><td>-0.12</td><td>0.18</td><td>0.00018</td><td>None</td><td>None</td><td>0.99</td><td>None</td><td>None</td><td>107.0</td><td>-15.0</td><td>18.0</td></tr>\n",
       "<tr><td>GW191113_071753-v1</td><td>GW191113_071753</td><td>1</td><td>GWTC-3-confident</td><td>1257664691.8</td><td>/GWTC-3/</td><td>https://gwosc.org/eventapi/json/GWTC-3-confident/GW191113_071753/v1</td><td>29.0</td><td>-14.0</td><td>12.0</td><td>5.9</td><td>-1.3</td><td>4.4</td><td>7.9</td><td>-1.1</td><td>0.5</td><td>1370.0</td><td>-620.0</td><td>1150.0</td><td>0.0</td><td>-0.29</td><td>0.37</td><td>34.5</td><td>-9.8</td><td>10.5</td><td>10.7</td><td>-1.0</td><td>1.1</td><td>None</td><td>None</td><td>None</td><td>0.26</td><td>-0.11</td><td>0.18</td><td>26.0</td><td>None</td><td>None</td><td>0.68339</td><td>None</td><td>None</td><td>34.0</td><td>-10.0</td><td>11.0</td></tr>\n",
       "<tr><td>GW191126_115259-v1</td><td>GW191126_115259</td><td>1</td><td>GWTC-3-confident</td><td>1258804397.6</td><td>/GWTC-3/</td><td>https://gwosc.org/eventapi/json/GWTC-3-confident/GW191126_115259/v1</td><td>12.1</td><td>-2.2</td><td>5.5</td><td>8.3</td><td>-2.4</td><td>1.9</td><td>8.3</td><td>-0.5</td><td>0.2</td><td>1620.0</td><td>-740.0</td><td>740.0</td><td>0.21</td><td>-0.11</td><td>0.15</td><td>20.7</td><td>-2.0</td><td>3.4</td><td>8.65</td><td>-0.71</td><td>0.95</td><td>None</td><td>None</td><td>None</td><td>0.3</td><td>-0.13</td><td>0.12</td><td>3.2</td><td>None</td><td>None</td><td>0.70041</td><td>None</td><td>None</td><td>19.6</td><td>-2.0</td><td>3.5</td></tr>\n",
       "<tr><td>GW191127_050227-v1</td><td>GW191127_050227</td><td>1</td><td>GWTC-3-confident</td><td>1258866165.5</td><td>/GWTC-3/</td><td>https://gwosc.org/eventapi/json/GWTC-3-confident/GW191127_050227/v1</td><td>53.0</td><td>-20.0</td><td>47.0</td><td>24.0</td><td>-14.0</td><td>17.0</td><td>9.2</td><td>-0.6</td><td>0.7</td><td>3400.0</td><td>-1900.0</td><td>3100.0</td><td>0.18</td><td>-0.36</td><td>0.34</td><td>80.0</td><td>-22.0</td><td>39.0</td><td>29.9</td><td>-9.1</td><td>11.7</td><td>None</td><td>None</td><td>None</td><td>0.57</td><td>-0.29</td><td>0.4</td><td>0.25</td><td>None</td><td>None</td><td>0.73996</td><td>None</td><td>None</td><td>76.0</td><td>-21.0</td><td>39.0</td></tr>\n",
       "<tr><td>GW191129_134029-v1</td><td>GW191129_134029</td><td>1</td><td>GWTC-3-confident</td><td>1259070047.1</td><td>/GWTC-3/</td><td>https://gwosc.org/eventapi/json/GWTC-3-confident/GW191129_134029/v1</td><td>10.7</td><td>-2.1</td><td>4.1</td><td>6.7</td><td>-1.7</td><td>1.5</td><td>13.1</td><td>-0.3</td><td>0.2</td><td>790.0</td><td>-330.0</td><td>260.0</td><td>0.06</td><td>-0.08</td><td>0.16</td><td>17.5</td><td>-1.2</td><td>2.4</td><td>7.31</td><td>-0.28</td><td>0.43</td><td>None</td><td>None</td><td>None</td><td>0.16</td><td>-0.06</td><td>0.05</td><td>1e-05</td><td>None</td><td>None</td><td>0.99</td><td>None</td><td>None</td><td>16.8</td><td>-1.2</td><td>2.5</td></tr>\n",
       "<tr><td>GW191204_110529-v1</td><td>GW191204_110529</td><td>1</td><td>GWTC-3-confident</td><td>1259492747.5</td><td>/GWTC-3/</td><td>https://gwosc.org/eventapi/json/GWTC-3-confident/GW191204_110529/v1</td><td>27.3</td><td>-6.0</td><td>11.0</td><td>19.3</td><td>-6.0</td><td>5.6</td><td>8.8</td><td>-0.6</td><td>0.4</td><td>1800.0</td><td>-1100.0</td><td>1700.0</td><td>0.05</td><td>-0.27</td><td>0.26</td><td>47.2</td><td>-8.0</td><td>9.2</td><td>19.8</td><td>-3.3</td><td>3.6</td><td>None</td><td>None</td><td>None</td><td>0.34</td><td>-0.18</td><td>0.25</td><td>3.3</td><td>None</td><td>None</td><td>0.74239</td><td>None</td><td>None</td><td>45.0</td><td>-7.6</td><td>8.6</td></tr>\n",
       "<tr><td>GW191204_171526-v1</td><td>GW191204_171526</td><td>1</td><td>GWTC-3-confident</td><td>1259514944.0</td><td>/GWTC-3/</td><td>https://gwosc.org/eventapi/json/GWTC-3-confident/GW191204_171526/v1</td><td>11.9</td><td>-1.8</td><td>3.3</td><td>8.2</td><td>-1.6</td><td>1.4</td><td>17.5</td><td>-0.2</td><td>0.2</td><td>650.0</td><td>-250.0</td><td>190.0</td><td>0.16</td><td>-0.05</td><td>0.08</td><td>20.21</td><td>-0.96</td><td>1.7</td><td>8.55</td><td>-0.27</td><td>0.38</td><td>None</td><td>None</td><td>None</td><td>0.13</td><td>-0.05</td><td>0.04</td><td>1e-05</td><td>None</td><td>None</td><td>0.99</td><td>None</td><td>None</td><td>19.21</td><td>-0.95</td><td>1.79</td></tr>\n",
       "<tr><td>GW191215_223052-v1</td><td>GW191215_223052</td><td>1</td><td>GWTC-3-confident</td><td>1260484270.3</td><td>/GWTC-3/</td><td>https://gwosc.org/eventapi/json/GWTC-3-confident/GW191215_223052/v1</td><td>24.9</td><td>-4.1</td><td>7.1</td><td>18.1</td><td>-4.1</td><td>3.8</td><td>11.2</td><td>-0.4</td><td>0.3</td><td>1930.0</td><td>-860.0</td><td>890.0</td><td>-0.04</td><td>-0.21</td><td>0.17</td><td>43.3</td><td>-4.3</td><td>5.3</td><td>18.4</td><td>-1.7</td><td>2.2</td><td>None</td><td>None</td><td>None</td><td>0.35</td><td>-0.14</td><td>0.13</td><td>1e-05</td><td>None</td><td>None</td><td>0.99</td><td>None</td><td>None</td><td>41.4</td><td>-4.1</td><td>5.1</td></tr>\n",
       "<tr><td>...</td><td>...</td><td>...</td><td>...</td><td>...</td><td>...</td><td>...</td><td>...</td><td>...</td><td>...</td><td>...</td><td>...</td><td>...</td><td>...</td><td>...</td><td>...</td><td>...</td><td>...</td><td>...</td><td>...</td><td>...</td><td>...</td><td>...</td><td>...</td><td>...</td><td>...</td><td>...</td><td>...</td><td>...</td><td>...</td><td>...</td><td>...</td><td>...</td><td>...</td><td>...</td><td>...</td><td>...</td><td>...</td><td>...</td><td>...</td><td>...</td><td>...</td><td>...</td></tr>\n",
       "<tr><td>GW200220_061928-v1</td><td>GW200220_061928</td><td>1</td><td>GWTC-3-confident</td><td>1266214786.7</td><td>/GWTC-3/</td><td>https://gwosc.org/eventapi/json/GWTC-3-confident/GW200220_061928/v1</td><td>87.0</td><td>-23.0</td><td>40.0</td><td>61.0</td><td>-25.0</td><td>26.0</td><td>7.2</td><td>-0.7</td><td>0.4</td><td>6000.0</td><td>-3100.0</td><td>4800.0</td><td>0.06</td><td>-0.38</td><td>0.4</td><td>148.0</td><td>-33.0</td><td>55.0</td><td>62.0</td><td>-15.0</td><td>23.0</td><td>None</td><td>None</td><td>None</td><td>0.9</td><td>-0.4</td><td>0.55</td><td>6.8</td><td>None</td><td>None</td><td>0.62376</td><td>None</td><td>None</td><td>141.0</td><td>-31.0</td><td>51.0</td></tr>\n",
       "<tr><td>GW200220_124850-v1</td><td>GW200220_124850</td><td>1</td><td>GWTC-3-confident</td><td>1266238148.1</td><td>/GWTC-3/</td><td>https://gwosc.org/eventapi/json/GWTC-3-confident/GW200220_124850/v1</td><td>38.9</td><td>-8.6</td><td>14.1</td><td>27.9</td><td>-9.0</td><td>9.2</td><td>8.5</td><td>-0.5</td><td>0.3</td><td>4000.0</td><td>-2200.0</td><td>2800.0</td><td>-0.07</td><td>-0.33</td><td>0.27</td><td>67.0</td><td>-12.0</td><td>17.0</td><td>28.2</td><td>-5.1</td><td>7.3</td><td>None</td><td>None</td><td>None</td><td>0.66</td><td>-0.31</td><td>0.36</td><td>30.0</td><td>None</td><td>None</td><td>0.82579</td><td>None</td><td>None</td><td>64.0</td><td>-11.0</td><td>16.0</td></tr>\n",
       "<tr><td>GW200224_222234-v1</td><td>GW200224_222234</td><td>1</td><td>GWTC-3-confident</td><td>1266618172.4</td><td>/GWTC-3/</td><td>https://gwosc.org/eventapi/json/GWTC-3-confident/GW200224_222234/v1</td><td>40.0</td><td>-4.5</td><td>6.9</td><td>32.5</td><td>-7.2</td><td>5.0</td><td>20.0</td><td>-0.2</td><td>0.2</td><td>1710.0</td><td>-640.0</td><td>490.0</td><td>0.1</td><td>-0.15</td><td>0.15</td><td>72.2</td><td>-5.1</td><td>7.2</td><td>31.1</td><td>-2.6</td><td>3.2</td><td>None</td><td>None</td><td>None</td><td>0.32</td><td>-0.11</td><td>0.08</td><td>1e-05</td><td>None</td><td>None</td><td>0.99</td><td>None</td><td>None</td><td>68.6</td><td>-4.7</td><td>6.6</td></tr>\n",
       "<tr><td>GW200225_060421-v1</td><td>GW200225_060421</td><td>1</td><td>GWTC-3-confident</td><td>1266645879.3</td><td>/GWTC-3/</td><td>https://gwosc.org/eventapi/json/GWTC-3-confident/GW200225_060421/v1</td><td>19.3</td><td>-3.0</td><td>5.0</td><td>14.0</td><td>-3.5</td><td>2.8</td><td>12.5</td><td>-0.4</td><td>0.3</td><td>1150.0</td><td>-530.0</td><td>510.0</td><td>-0.12</td><td>-0.28</td><td>0.17</td><td>33.5</td><td>-3.0</td><td>3.6</td><td>14.2</td><td>-1.4</td><td>1.5</td><td>None</td><td>None</td><td>None</td><td>0.22</td><td>-0.1</td><td>0.09</td><td>1.1e-05</td><td>None</td><td>None</td><td>0.99</td><td>None</td><td>None</td><td>32.1</td><td>-2.8</td><td>3.5</td></tr>\n",
       "<tr><td>GW200302_015811-v1</td><td>GW200302_015811</td><td>1</td><td>GWTC-3-confident</td><td>1267149509.5</td><td>/GWTC-3/</td><td>https://gwosc.org/eventapi/json/GWTC-3-confident/GW200302_015811/v1</td><td>37.8</td><td>-8.5</td><td>8.7</td><td>20.0</td><td>-5.7</td><td>8.1</td><td>10.8</td><td>-0.4</td><td>0.3</td><td>1480.0</td><td>-700.0</td><td>1020.0</td><td>0.01</td><td>-0.26</td><td>0.25</td><td>57.8</td><td>-6.9</td><td>9.6</td><td>23.4</td><td>-3.0</td><td>4.7</td><td>None</td><td>None</td><td>None</td><td>0.28</td><td>-0.12</td><td>0.16</td><td>0.11</td><td>None</td><td>None</td><td>0.90643</td><td>None</td><td>None</td><td>55.5</td><td>-6.6</td><td>8.9</td></tr>\n",
       "<tr><td>GW200306_093714-v1</td><td>GW200306_093714</td><td>1</td><td>GWTC-3-confident</td><td>1267522652.1</td><td>/GWTC-3/</td><td>https://gwosc.org/eventapi/json/GWTC-3-confident/GW200306_093714/v1</td><td>28.3</td><td>-7.7</td><td>17.1</td><td>14.8</td><td>-6.4</td><td>6.5</td><td>7.8</td><td>-0.6</td><td>0.4</td><td>2100.0</td><td>-1100.0</td><td>1700.0</td><td>0.32</td><td>-0.46</td><td>0.28</td><td>43.9</td><td>-7.5</td><td>11.8</td><td>17.5</td><td>-3.0</td><td>3.5</td><td>None</td><td>None</td><td>None</td><td>0.38</td><td>-0.18</td><td>0.24</td><td>24.0</td><td>None</td><td>None</td><td>0.81156</td><td>None</td><td>None</td><td>41.7</td><td>-6.9</td><td>12.3</td></tr>\n",
       "<tr><td>GW200308_173609-v1</td><td>GW200308_173609</td><td>1</td><td>GWTC-3-confident</td><td>1267724187.7</td><td>/GWTC-3/</td><td>https://gwosc.org/eventapi/json/GWTC-3-confident/GW200308_173609/v1</td><td>36.4</td><td>-9.6</td><td>11.2</td><td>13.8</td><td>-3.3</td><td>7.2</td><td>7.1</td><td>-0.5</td><td>0.5</td><td>5400.0</td><td>-2600.0</td><td>2700.0</td><td>0.65</td><td>-0.21</td><td>0.17</td><td>50.6</td><td>-8.5</td><td>10.9</td><td>19.0</td><td>-2.8</td><td>4.8</td><td>None</td><td>None</td><td>None</td><td>0.83</td><td>-0.35</td><td>0.32</td><td>2.4</td><td>None</td><td>None</td><td>0.8566</td><td>None</td><td>None</td><td>47.4</td><td>-7.7</td><td>11.1</td></tr>\n",
       "<tr><td>GW200311_115853-v1</td><td>GW200311_115853</td><td>1</td><td>GWTC-3-confident</td><td>1267963151.3</td><td>/GWTC-3/</td><td>https://gwosc.org/eventapi/json/GWTC-3-confident/GW200311_115853/v1</td><td>34.2</td><td>-3.8</td><td>6.4</td><td>27.7</td><td>-5.9</td><td>4.1</td><td>17.8</td><td>-0.2</td><td>0.2</td><td>1170.0</td><td>-400.0</td><td>280.0</td><td>-0.02</td><td>-0.2</td><td>0.16</td><td>61.9</td><td>-4.2</td><td>5.3</td><td>26.6</td><td>-2.0</td><td>2.4</td><td>None</td><td>None</td><td>None</td><td>0.23</td><td>-0.07</td><td>0.05</td><td>1e-05</td><td>None</td><td>None</td><td>0.99</td><td>None</td><td>None</td><td>59.0</td><td>-3.9</td><td>4.8</td></tr>\n",
       "<tr><td>GW200316_215756-v1</td><td>GW200316_215756</td><td>1</td><td>GWTC-3-confident</td><td>1268431094.1</td><td>/GWTC-3/</td><td>https://gwosc.org/eventapi/json/GWTC-3-confident/GW200316_215756/v1</td><td>13.1</td><td>-2.9</td><td>10.2</td><td>7.8</td><td>-2.9</td><td>1.9</td><td>10.3</td><td>-0.7</td><td>0.4</td><td>1120.0</td><td>-440.0</td><td>470.0</td><td>0.13</td><td>-0.1</td><td>0.27</td><td>21.2</td><td>-2.0</td><td>7.2</td><td>8.75</td><td>-0.55</td><td>0.62</td><td>None</td><td>None</td><td>None</td><td>0.22</td><td>-0.08</td><td>0.08</td><td>1e-05</td><td>None</td><td>None</td><td>0.99</td><td>None</td><td>None</td><td>20.2</td><td>-1.9</td><td>7.4</td></tr>\n",
       "<tr><td>GW200322_091133-v1</td><td>GW200322_091133</td><td>1</td><td>GWTC-3-confident</td><td>1268903511.3</td><td>/GWTC-3/</td><td>https://gwosc.org/eventapi/json/GWTC-3-confident/GW200322_091133/v1</td><td>34.0</td><td>-18.0</td><td>48.0</td><td>14.0</td><td>-8.7</td><td>16.8</td><td>6.0</td><td>-1.2</td><td>1.7</td><td>3600.0</td><td>-2000.0</td><td>7000.0</td><td>0.24</td><td>-0.51</td><td>0.45</td><td>55.0</td><td>-27.0</td><td>37.0</td><td>15.5</td><td>-3.7</td><td>15.7</td><td>None</td><td>None</td><td>None</td><td>0.6</td><td>-0.3</td><td>0.84</td><td>140.0</td><td>None</td><td>None</td><td>0.61501</td><td>None</td><td>None</td><td>53.0</td><td>-26.0</td><td>38.0</td></tr>\n",
       "</table></div>"
      ],
      "text/plain": [
       "<Table length=35>\n",
       "        id            commonName   ... final_mass_source_upper\n",
       "      str18             str15      ...         float64        \n",
       "------------------ --------------- ... -----------------------\n",
       "GW191103_012549-v1 GW191103_012549 ...                     3.8\n",
       "GW191105_143521-v1 GW191105_143521 ...                     2.1\n",
       "GW191109_010717-v1 GW191109_010717 ...                    18.0\n",
       "GW191113_071753-v1 GW191113_071753 ...                    11.0\n",
       "GW191126_115259-v1 GW191126_115259 ...                     3.5\n",
       "GW191127_050227-v1 GW191127_050227 ...                    39.0\n",
       "GW191129_134029-v1 GW191129_134029 ...                     2.5\n",
       "GW191204_110529-v1 GW191204_110529 ...                     8.6\n",
       "GW191204_171526-v1 GW191204_171526 ...                    1.79\n",
       "GW191215_223052-v1 GW191215_223052 ...                     5.1\n",
       "               ...             ... ...                     ...\n",
       "GW200220_061928-v1 GW200220_061928 ...                    51.0\n",
       "GW200220_124850-v1 GW200220_124850 ...                    16.0\n",
       "GW200224_222234-v1 GW200224_222234 ...                     6.6\n",
       "GW200225_060421-v1 GW200225_060421 ...                     3.5\n",
       "GW200302_015811-v1 GW200302_015811 ...                     8.9\n",
       "GW200306_093714-v1 GW200306_093714 ...                    12.3\n",
       "GW200308_173609-v1 GW200308_173609 ...                    11.1\n",
       "GW200311_115853-v1 GW200311_115853 ...                     4.8\n",
       "GW200316_215756-v1 GW200316_215756 ...                     7.4\n",
       "GW200322_091133-v1 GW200322_091133 ...                    38.0"
      ]
     },
     "execution_count": 5,
     "metadata": {},
     "output_type": "execute_result"
    }
   ],
   "source": [
    "# https://gwosc.org/eventapi/\n",
    "data_GW = ascii.read('GWTC-3-confident.txt')\n",
    "data_GW"
   ]
  },
  {
   "cell_type": "code",
   "execution_count": 306,
   "id": "dimensional-radical",
   "metadata": {},
   "outputs": [],
   "source": [
    "# https://academic.oup.com/mnras/article/471/2/1694/4056151\n",
    "logMBH_TDE = np.array([5.50, 6.23, 5.42, 6.31, 6.88, 6.34, 5.68, 7.25, 5.85, 5.82, 6.21, 7.36])"
   ]
  },
  {
   "cell_type": "code",
   "execution_count": 367,
   "id": "royal-groove",
   "metadata": {},
   "outputs": [
    {
     "data": {
      "image/png": "[encoded data removed]",
      "text/plain": [
       "<Figure size 720x306 with 1 Axes>"
      ]
     },
     "metadata": {
      "needs_background": "light"
     },
     "output_type": "display_data"
    }
   ],
   "source": [
    "import matplotlib\n",
    "\n",
    "# Figure inspired by https://arxiv.org/pdf/1610.05309.pdf\n",
    "\n",
    "\n",
    "M_f = data_GW['final_mass_source']\n",
    "M1 = data_GW['mass_1_source']\n",
    "M2 = data_GW['mass_2_source']\n",
    "\n",
    "# Exclude probable NS\n",
    "M1 = M1[M1>3]\n",
    "M2 = M2[M2>3]\n",
    "\n",
    "\n",
    "fig,ax = plt.subplots(1, 1, figsize=(10, 4.25))\n",
    "#ax2 = ax.twinx()\n",
    "\n",
    "\n",
    "bins = np.logspace(-1, 3, 20)\n",
    "\n",
    "ax.axvspan(2, 5, color='lightgray', zorder=-2) # Lower mass gap\n",
    "ax.axvspan(60, 140, color='lightgray', zorder=-2) # Upper mass gap\n",
    "\n",
    "ax.text(60 + (140-60)/2, 50, 'upper mass gap', ha='center', rotation=90)\n",
    "ax.text(2 + (5-2)/2, 50, 'lower mass gap', ha='center', rotation=90)\n",
    "\n",
    "\n",
    "ax.hist(np.concatenate([M1, M2]), bins=bins, color='steelblue', histtype='step', label='GW progenitor', zorder=-1)\n",
    "ax.hist(M_f, bins=bins, color='lightblue', label='GW remnant', alpha=0.9)\n",
    "\n",
    "ax.hist(data_XRB['M1_1'], bins=bins, color='lightgreen', label='dynamical XRB', alpha=0.9)\n",
    "\n",
    "\n",
    "# SMBH\n",
    "\n",
    "\n",
    "bins = np.logspace(2, 8, 15)\n",
    "ax.hist(10**data_dwarf_AGN['mass'], bins=bins, color='pink', label='dwarf AGN')\n",
    "\n",
    "bins = np.logspace(4, 13, 20)\n",
    "ax.hist(10**data_sdss['LOGMBH'], bins=bins, color='orange', label='SDSS quasars', alpha=0.5)\n",
    "\n",
    "bins = np.logspace(2, 8, 15)\n",
    "ax.hist(10**logMBH_TDE, bins=bins, color='plum', label='TDE')\n",
    "\n",
    "ax.text(142, 3, 'GW190521', ha='center')\n",
    "ax.axvline(142, 0, .1, color='k')\n",
    "\n",
    "ax.text(25000, 1.5, 'RGG 118', ha='center')\n",
    "ax.axvline(50000, 0, .05, color='k')\n",
    "\n",
    "ax.text(1e5, 3, 'NGC 4395', ha='center')\n",
    "ax.axvline(1e5, 0, .1, color='k')\n",
    "\n",
    "ax.text(4.3*1e6, 3, r'Sgr A$^{\\ast}$', ha='center')\n",
    "ax.axvline(4.3*1e6, 0, .1, color='k')\n",
    "\n",
    "ax.text(6.5*1e9, 3, r'M87', ha='center')\n",
    "ax.axvline(6.5*1e9, 0, .1, color='k')\n",
    "\n",
    "ax.text(6e10, 3, r'S5 0014+81', ha='center')\n",
    "ax.axvline(4e10, 0, .1, color='k')\n",
    "\n",
    "\n",
    "#ax.text(1e0, 1e2, 'stellar-mass BH', fontsize=18)\n",
    "\n",
    "#ax.text(1e3, 1e3, 'IMBH', fontsize=18)\n",
    "\n",
    "#ax.text(1e8, 1e3, 'SMBH', fontsize=18)GW190521\n",
    "\n",
    "\n",
    "# Lower mass gap\n",
    "\n",
    "ax.set_xscale('log')\n",
    "ax.set_yscale('log')\n",
    "\n",
    "ax.set_xlim(1, 1e12)\n",
    "\n",
    "ax.set_ylabel('Number')\n",
    "ax.set_xlabel('Black Hole Mass (Solar Masses)')\n",
    "\n",
    "ax.legend(loc=1, frameon=True, fontsize=14, framealpha=0.4)\n",
    "\n",
    "# Axis\n",
    "locmaj = matplotlib.ticker.LogLocator(base=10,numticks=14) \n",
    "ax.xaxis.set_major_locator(locmaj)\n",
    "locmin = matplotlib.ticker.LogLocator(base=10.0,subs=(0.1,0.2,0.3,0.4,0.5,0.6,0.7,0.8,0.9),numticks=14)\n",
    "ax.xaxis.set_minor_locator(locmin)\n",
    "ax.xaxis.set_minor_formatter(matplotlib.ticker.NullFormatter())\n",
    "\n",
    "ax.tick_params(axis='x', which='major', pad=7)\n",
    "\n",
    "fig.tight_layout()\n",
    "fig.savefig('bh_mass_det_spectrum.pdf', dpi=300)"
   ]
  },
  {
   "cell_type": "code",
   "execution_count": 270,
   "id": "loaded-oracle",
   "metadata": {},
   "outputs": [
    {
     "data": {
      "text/html": [
       "<div><i>Table length=18</i>\n",
       "<table id=\"table139736713555664\" class=\"table-striped table-bordered table-condensed\">\n",
       "<thead><tr><th>Name</th><th>e</th><th>Ctp</th><th>SpType</th><th>Porb</th><th>e_Porb</th><th>2</th><th>K2</th><th>e_K2</th><th>f(M1)</th><th>(M1)</th><th>M1</th><th>M1_1</th><th>_M1</th><th>e_  M1u</th><th>_q</th><th>q</th><th>E_q</th><th>e_    qu</th><th>_i</th><th>i</th><th>e_ iu</th><th>ni</th><th>tsini</th><th>sini</th><th>sini_1</th><th>Ref</th></tr></thead>\n",
       "<thead><tr><th>str18</th><th>str1</th><th>str10</th><th>str7</th><th>float64</th><th>float64</th><th>str1</th><th>float64</th><th>float64</th><th>float64</th><th>float64</th><th>str2</th><th>float64</th><th>float64</th><th>str5</th><th>str2</th><th>str5</th><th>float64</th><th>float64</th><th>str2</th><th>float64</th><th>float64</th><th>str2</th><th>str5</th><th>float64</th><th>float64</th><th>str81</th></tr></thead>\n",
       "<tr><td>SWIFT J1357.2-0933</td><td>+</td><td>--</td><td>M2-4V</td><td>2.8</td><td>0.3</td><td>--</td><td>967.0</td><td>49.0</td><td>11.0</td><td>2.1</td><td>&gt;</td><td>8.9</td><td>--</td><td>--</td><td>~</td><td>0.04</td><td>--</td><td>--</td><td>~</td><td>90.0</td><td>--</td><td>--</td><td>--</td><td>--</td><td>--</td><td>Corral-Santana2013;MataSanchez2015</td></tr>\n",
       "<tr><td>XTE J1650-500</td><td>--</td><td>--</td><td>~K4V</td><td>7.69</td><td>0.02</td><td>--</td><td>435.0</td><td>30.0</td><td>2.7</td><td>0.6</td><td>&lt;=</td><td>7.3</td><td>--</td><td>--</td><td>--</td><td>---</td><td>--</td><td>--</td><td>&gt;</td><td>47.0</td><td>--</td><td>--</td><td>--</td><td>--</td><td>--</td><td>Orosz2004</td></tr>\n",
       "<tr><td>XTE J1118+480</td><td>--</td><td>--</td><td>K7-M1V</td><td>4.078414</td><td>5e-06</td><td>--</td><td>709.0</td><td>1.0</td><td>6.27</td><td>0.04</td><td>--</td><td>6.9</td><td>--</td><td>- 8.2</td><td>--</td><td>0.024</td><td>0.009</td><td>0.009</td><td>--</td><td>68.0</td><td>-79.0</td><td>--</td><td>96.</td><td>3.0</td><td>11.0</td><td>Khargharia2013;Torres2004;GonzalezHernandez2008;Calvelo2009</td></tr>\n",
       "<tr><td>XTE J1859+226</td><td>--</td><td>V406 Vul</td><td>~K5V</td><td>6.58</td><td>0.05</td><td>--</td><td>541.0</td><td>70.0</td><td>4.5</td><td>0.6</td><td>&gt;</td><td>5.42</td><td>--</td><td>--</td><td>--</td><td>---</td><td>--</td><td>--</td><td>&lt;</td><td>70.0</td><td>--</td><td>--</td><td>--</td><td>--</td><td>--</td><td>Corral-Santana2011</td></tr>\n",
       "<tr><td>SAX J1819.3-2525</td><td>--</td><td>V4641 Sgr</td><td>B9III</td><td>67.6152</td><td>0.0002</td><td>--</td><td>211.0</td><td>3.0</td><td>2.7</td><td>0.1</td><td>--</td><td>6.4</td><td>0.6</td><td>0.6</td><td>--</td><td>0.63</td><td>--</td><td>-0.7</td><td>--</td><td>72.0</td><td>4.0</td><td>--</td><td>100.9</td><td>0.8</td><td>0.8</td><td>Orosz2001;MacDonald2014</td></tr>\n",
       "<tr><td>XTE J1550-564</td><td>--</td><td>--</td><td>K2-K4IV</td><td>37.0088</td><td>0.0001</td><td>--</td><td>363.0</td><td>6.0</td><td>7.65</td><td>0.38</td><td>--</td><td>7.81</td><td>--</td><td>-15.6</td><td>~~</td><td>0.03</td><td>--</td><td>--</td><td>--</td><td>75.0</td><td>4.0</td><td>--</td><td>55.</td><td>5.0</td><td>5.0</td><td>Orosz2002;Orosz2011b</td></tr>\n",
       "<tr><td>GRO J1655-40</td><td>--</td><td>N.  Sco 94</td><td>F6IV</td><td>62.92</td><td>0.003</td><td>--</td><td>226.1</td><td>0.8</td><td>2.73</td><td>0.09</td><td>--</td><td>6.0</td><td>0.4</td><td>0.4</td><td>--</td><td>0.42</td><td>0.03</td><td>0.03</td><td>--</td><td>69.0</td><td>2.0</td><td>--</td><td>86.</td><td>3.3</td><td>3.6</td><td>Orosz1997;VanDerHooft1998;Shahbaz1999;Shahbaz2003;Beer2002;GonzalezHernandez2008a</td></tr>\n",
       "<tr><td>GRS 1009-45</td><td>--</td><td>N.  Vel 93</td><td>K7-M0V</td><td>6.8449</td><td>0.0003</td><td>--</td><td>475.0</td><td>6.0</td><td>3.2</td><td>0.1</td><td>&gt;~</td><td>4.4</td><td>--</td><td>--</td><td>--</td><td>0.14</td><td>0.02</td><td>0.02</td><td>--</td><td>37.0</td><td>-80.0</td><td>--</td><td>---</td><td>--</td><td>--</td><td>Filippenko1999;Shahbaz1996</td></tr>\n",
       "<tr><td>GRS 1915+105</td><td>--</td><td>V1487 Aql</td><td>K1-5III</td><td>812.0</td><td>4.0</td><td>--</td><td>126.0</td><td>1.0</td><td>7.0</td><td>0.2</td><td>--</td><td>10.1</td><td>0.6</td><td>0.6</td><td>--</td><td>0.042</td><td>0.024</td><td>0.024</td><td>--</td><td>66.0</td><td>2.0</td><td>--</td><td>21.</td><td>4.0</td><td>4.0</td><td>Harlaftis2004;Steeghs2013;Fender1999</td></tr>\n",
       "<tr><td>GRO J0422+32</td><td>--</td><td>--</td><td>M4-5V</td><td>5.094185</td><td>5e-06</td><td>--</td><td>378.0</td><td>16.0</td><td>1.19</td><td>0.02</td><td>--</td><td>2.0</td><td>--</td><td>-15.</td><td>--</td><td>0.11</td><td>0.05</td><td>0.02</td><td>--</td><td>10.0</td><td>-50.0</td><td>--</td><td>90.</td><td>22.0</td><td>27.0</td><td>Webb2000;Casares1995c;Beekman1997;Harlaftis1999</td></tr>\n",
       "<tr><td>GRS 1124-684</td><td>--</td><td>N.  Mus 91</td><td>K3-5V</td><td>10.38254</td><td>7e-05</td><td>--</td><td>406.0</td><td>7.0</td><td>3.0</td><td>0.2</td><td>--</td><td>3.8</td><td>--</td><td>- 7.5</td><td>--</td><td>0.09</td><td>--</td><td>-0.17</td><td>--</td><td>39.0</td><td>-65.0</td><td>--</td><td>106.</td><td>13.0</td><td>13.0</td><td>Orosz1996;Shahbaz1997;Gelino2001a;Gelino2001;Casares1997</td></tr>\n",
       "<tr><td>GS 2023+338</td><td>--</td><td>V404 Cyg</td><td>K3III</td><td>155.311</td><td>0.002</td><td>--</td><td>208.5</td><td>0.7</td><td>6.08</td><td>0.06</td><td>--</td><td>9.0</td><td>0.2</td><td>0.6</td><td>--</td><td>0.055</td><td>--</td><td>-0.064</td><td>--</td><td>52.0</td><td>-80.0</td><td>--</td><td>39.</td><td>1.0</td><td>1.0</td><td>Wagner1992;Casares1992;Casares1993;Casares1994;Shahbaz1994b;Khargharia2010</td></tr>\n",
       "<tr><td>GS 2000+251</td><td>--</td><td>QZ Vul</td><td>K3-7V</td><td>8.258095</td><td>5e-06</td><td>--</td><td>520.0</td><td>5.0</td><td>5.0</td><td>0.1</td><td>--</td><td>5.5</td><td>--</td><td>- 8.8</td><td>--</td><td>0.04</td><td>0.01</td><td>0.01</td><td>--</td><td>54.0</td><td>-60.0</td><td>--</td><td>86.</td><td>8.0</td><td>8.0</td><td>Charles1991;Casares1995a;Harlaftis1996;Ioannou2004</td></tr>\n",
       "<tr><td>GS 1354-64</td><td>--</td><td>BW Cir</td><td>G5III</td><td>61.068</td><td>0.002</td><td>--</td><td>279.0</td><td>5.0</td><td>5.7</td><td>0.3</td><td>&gt;=</td><td>7.6</td><td>0.7</td><td>0.7</td><td>--</td><td>0.12</td><td>0.03</td><td>0.04</td><td>&lt;=</td><td>79.0</td><td>--</td><td>--</td><td>69.</td><td>8.0</td><td>8.0</td><td>Casares2004;Casares2009</td></tr>\n",
       "<tr><td>H 1705-250</td><td>--</td><td>N.  Oph 77</td><td>K3-M0V</td><td>12.51</td><td>0.03</td><td>--</td><td>448.0</td><td>4.0</td><td>4.9</td><td>0.1</td><td>--</td><td>4.9</td><td>--</td><td>- 7.9</td><td>&lt;=</td><td>0.053</td><td>--</td><td>--</td><td>--</td><td>48.0</td><td>-80.0</td><td>&lt;=</td><td>79.</td><td>--</td><td>--</td><td>Remillard1996;Filippenko1997;Harlaftis1997;Martin1995</td></tr>\n",
       "<tr><td>3A 0620-003</td><td>--</td><td>--</td><td>K2-7V</td><td>7.7523372</td><td>2e-07</td><td>--</td><td>437.0</td><td>2.0</td><td>2.79</td><td>0.04</td><td>--</td><td>6.6</td><td>0.3</td><td>0.3</td><td>--</td><td>0.074</td><td>0.006</td><td>0.006</td><td>--</td><td>51.0</td><td>0.9</td><td>--</td><td>---</td><td>--</td><td>--</td><td>Cantrell2010;Orosz1994;GonzalezHernandez2010</td></tr>\n",
       "<tr><td>1H 1659-487</td><td>--</td><td>GX 339-4</td><td>&gt;GIV</td><td>42.14</td><td>0.01</td><td>&gt;</td><td>317.0</td><td>10.0</td><td>5.8</td><td>0.5</td><td>&gt;</td><td>6.0</td><td>--</td><td>--</td><td>&lt;=</td><td>0.125</td><td>--</td><td>--</td><td>--</td><td>--</td><td>--</td><td>--</td><td>--</td><td>--</td><td>--</td><td>Hynes2003;Hynes2004; Munoz-Darias2008</td></tr>\n",
       "<tr><td>4U 1543-475</td><td>--</td><td>IL Lup</td><td>A2V</td><td>26.79377</td><td>7e-05</td><td>--</td><td>124.0</td><td>4.0</td><td>0.25</td><td>0.01</td><td>--</td><td>8.4</td><td>--</td><td>-10.4</td><td>--</td><td>3.2</td><td>--</td><td>-4.0</td><td>--</td><td>20.7</td><td>1.5</td><td>--</td><td>46.</td><td>2.0</td><td>2.0</td><td>Orosz1998;Orosz2003</td></tr>\n",
       "</table></div>"
      ],
      "text/plain": [
       "<Table length=18>\n",
       "       Name        ...\n",
       "      str18        ...\n",
       "------------------ ...\n",
       "SWIFT J1357.2-0933 ...\n",
       "     XTE J1650-500 ...\n",
       "     XTE J1118+480 ...\n",
       "     XTE J1859+226 ...\n",
       "  SAX J1819.3-2525 ...\n",
       "     XTE J1550-564 ...\n",
       "      GRO J1655-40 ...\n",
       "       GRS 1009-45 ...\n",
       "      GRS 1915+105 ...\n",
       "      GRO J0422+32 ...\n",
       "      GRS 1124-684 ...\n",
       "       GS 2023+338 ...\n",
       "       GS 2000+251 ...\n",
       "        GS 1354-64 ...\n",
       "        H 1705-250 ...\n",
       "       3A 0620-003 ...\n",
       "       1H 1659-487 ...\n",
       "       4U 1543-475 ..."
      ]
     },
     "execution_count": 270,
     "metadata": {},
     "output_type": "execute_result"
    }
   ],
   "source": [
    "data_XRB"
   ]
  },
  {
   "cell_type": "code",
   "execution_count": null,
   "id": "pretty-prime",
   "metadata": {},
   "outputs": [],
   "source": []
  }
 ],
 "metadata": {
  "kernelspec": {
   "display_name": "Python 3",
   "language": "python",
   "name": "python3"
  },
  "language_info": {
   "codemirror_mode": {
    "name": "ipython",
    "version": 3
   },
   "file_extension": ".py",
   "mimetype": "text/x-python",
   "name": "python",
   "nbconvert_exporter": "python",
   "pygments_lexer": "ipython3",
   "version": "3.7.15"
  }
 },
 "nbformat": 4,
 "nbformat_minor": 5
}
